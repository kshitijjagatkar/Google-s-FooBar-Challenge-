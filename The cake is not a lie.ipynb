{
 "cells": [
  {
   "cell_type": "code",
   "execution_count": 2,
   "metadata": {},
   "outputs": [
    {
     "data": {
      "text/plain": [
       "7"
      ]
     },
     "execution_count": 2,
     "metadata": {},
     "output_type": "execute_result"
    }
   ],
   "source": [
    "def solution(s):\n",
    "      \"\"\" Very first step is \n",
    "           1.loop through the string a letter by letter.\n",
    "           \n",
    "           Here we are using .count() function because it provides what we actually wants that\n",
    "           \n",
    "           - It trace the non -repeating pattern in the string and returns it's no of occurances.\n",
    "             then the logic becomes so simple we are taking one letter at a time(s[:x]) and multiplying \n",
    "             this collected string with it's occurances(.count([:x])) in the original string(==s)\n",
    "             \n",
    "             eg. 1st loop: a*occurances == original string? and when we hit pattern i.e. in this case: \n",
    "                 ab*occurances == OG string. we will return the count.\n",
    "                 \n",
    "           2. second if is optional step. I just wrote cause my 2,3 cases were failing. thought this might help\n",
    "               :It just check the lenght of the pattern we found is equal to the the pattern at the end. it's not so\n",
    "                necessary cause all work was done by the count fun. I was confused by those hidden tests\n",
    "           \n",
    "           3. These were the hidden test that confused me lot and then finally found it.\n",
    "               1st one is empty string if they pass\n",
    "               2nd one is the string which has no pattern\n",
    "            \n",
    "            And, here you pass the first fooBar challenge with very simple solution.\"\"\"\n",
    "        \n",
    "    for x in range(len(s)):\n",
    "        if s[:x]*s.count(s[:x])==s:\n",
    "            string = s[:x]\n",
    "            if s[len(s)-len(string):len(s)]==s[:x]:\n",
    "                return s.count(s[:x])\n",
    "    if s=='':\n",
    "        return 0\n",
    "    if s[:x]*s.count(s[:x])!=s:\n",
    "        return 1\n",
    "solution('ababababababab')"
   ]
  }
 ],
 "metadata": {
  "kernelspec": {
   "display_name": "Python 3",
   "language": "python",
   "name": "python3"
  },
  "language_info": {
   "codemirror_mode": {
    "name": "ipython",
    "version": 3
   },
   "file_extension": ".py",
   "mimetype": "text/x-python",
   "name": "python",
   "nbconvert_exporter": "python",
   "pygments_lexer": "ipython3",
   "version": "3.7.6"
  }
 },
 "nbformat": 4,
 "nbformat_minor": 4
}
